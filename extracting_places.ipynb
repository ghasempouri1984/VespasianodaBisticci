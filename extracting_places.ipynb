{
 "cells": [
  {
   "cell_type": "code",
   "execution_count": 1,
   "outputs": [],
   "source": [
    "from pandas import *\n",
    "import pandas as pd\n"
   ],
   "metadata": {
    "collapsed": false,
    "pycharm": {
     "name": "#%%\n"
    }
   }
  },
  {
   "cell_type": "markdown",
   "source": [
    "## reading \"vdbRdf.json\" from Prof.Tomasi's project\n",
    "### First I read json file to know about columns\n",
    "### I found column nunmber 20 is URI for place"
   ],
   "metadata": {
    "collapsed": false,
    "pycharm": {
     "name": "#%% md\n"
    }
   }
  },
  {
   "cell_type": "code",
   "execution_count": 2,
   "outputs": [
    {
     "name": "stdout",
     "output_type": "stream",
     "text": [
      "<class 'pandas.core.frame.DataFrame'>\n",
      "RangeIndex: 4165 entries, 0 to 4164\n",
      "Data columns (total 54 columns):\n",
      " #   Column                                                                        Non-Null Count  Dtype \n",
      "---  ------                                                                        --------------  ----- \n",
      " 0   @id                                                                           4165 non-null   object\n",
      " 1   @type                                                                         4165 non-null   object\n",
      " 2   http://purl.org/vocab/frbr/core#exemplar                                      362 non-null    object\n",
      " 3   http://www.w3.org/2000/01/rdf-schema#label                                    3308 non-null   object\n",
      " 4   http://purl.org/dc/terms/bibliographicCitation                                202 non-null    object\n",
      " 5   http://purl.org/dc/terms/description                                          3023 non-null   object\n",
      " 6   http://purl.org/spar/fabio/hasPublicationYear                                 225 non-null    object\n",
      " 7   http://purl.org/vocab/frbr/core#embodiment                                    431 non-null    object\n",
      " 8   http://purl.org/vocab/frbr/core#partOf                                        500 non-null    object\n",
      " 9   http://purl.org/dc/terms/creator                                              875 non-null    object\n",
      " 10  http://purl.org/dc/terms/references                                           592 non-null    object\n",
      " 11  http://purl.org/dc/terms/source                                               867 non-null    object\n",
      " 12  http://purl.org/dc/terms/type                                                 862 non-null    object\n",
      " 13  http://purl.org/spar/c4o/hasContent                                           1175 non-null   object\n",
      " 14  http://purl.org/dc/terms/isReferencedBy                                       192 non-null    object\n",
      " 15  http://purl.org/vocab/bio/0.1/birth                                           56 non-null     object\n",
      " 16  http://purl.org/vocab/bio/0.1/death                                           62 non-null     object\n",
      " 17  http://purl.org/spar/pro/isHeldBy                                             347 non-null    object\n",
      " 18  http://purl.org/spar/pro/relatesTo                                            347 non-null    object\n",
      " 19  http://purl.org/spar/pro/withRole                                             347 non-null    object\n",
      " 20  http://purl.org/vocab/bio/0.1/place                                           244 non-null    object\n",
      " 21  http://www.ontologydesignpatterns.org/cp/owl/timeindexedsituation.owl#atTime  205 non-null    object\n",
      " 22  http://www.w3.org/ns/prov#wasGeneratedBy                                      146 non-null    object\n",
      " 23  http://purl.org/dc/terms/title                                                602 non-null    object\n",
      " 24  http://www.essepuntato.it/2008/12/pattern#contains                            255 non-null    object\n",
      " 25  http://purl.org/dc/elements/1.1/date                                          118 non-null    object\n",
      " 26  http://purl.org/spar/pro/isRelatedToRoleInTime                                213 non-null    object\n",
      " 27  http://purl.org/spar/fabio/hasPortrayal                                       45 non-null     object\n",
      " 28  http://purl.org/vocab/frbr/core#realization                                   263 non-null    object\n",
      " 29  http://purl.org/emmedi/hico/hasInterpretationCriterion                        146 non-null    object\n",
      " 30  http://purl.org/emmedi/hico/hasInterpretationType                             146 non-null    object\n",
      " 31  http://purl.org/emmedi/hico/isExtractedFrom                                   146 non-null    object\n",
      " 32  http://purl.org/spar/cito/citesAsAuthority                                    81 non-null     object\n",
      " 33  http://purl.org/spar/cito/citesAsSource                                       146 non-null    object\n",
      " 34  http://www.w3.org/ns/prov#wasAssociatedWith                                   146 non-null    object\n",
      " 35  http://purl.org/vocab/frbr/core#complement                                    44 non-null     object\n",
      " 36  http://purl.org/vocab/frbr/core#part                                          62 non-null     object\n",
      " 37  http://schema.org/about                                                       90 non-null     object\n",
      " 38  http://prismstandard.org/namespaces/basic/2.0/pageRange                       105 non-null    object\n",
      " 39  http://www.w3.org/2002/07/owl#sameAs                                          126 non-null    object\n",
      " 40  http://prismstandard.org/namespaces/basic/2.0/volume                          62 non-null     object\n",
      " 41  http://schema.org/subjectOf                                                   45 non-null     object\n",
      " 42  http://purl.org/dc/terms/identifier                                           104 non-null    object\n",
      " 43  http://purl.org/spar/fabio/hasSubjectTerm                                     59 non-null     object\n",
      " 44  http://purl.org/spar/fabio/isPortrayalOf                                      56 non-null     object\n",
      " 45  http://purl.org/dc/terms/relation                                             42 non-null     object\n",
      " 46  http://xmlns.com/foaf/0.1/depiction                                           41 non-null     object\n",
      " 47  http://purl.org/dc/terms/issued                                               38 non-null     object\n",
      " 48  http://dati.san.beniculturali.it/SAN/has_luogoConservatore                    6 non-null      object\n",
      " 49  http://dati.san.beniculturali.it/SAN/isConservatoreOf                         6 non-null      object\n",
      " 50  http://purl.org/dc/terms/coverage                                             27 non-null     object\n",
      " 51  http://purl.org/spar/c4o/isRelevantTo                                         33 non-null     object\n",
      " 52  http://purl.org/vocab/frbr/core#realizationOf                                 19 non-null     object\n",
      " 53  http://purl.org/dc/terms/rights                                               1 non-null      object\n",
      "dtypes: object(54)\n",
      "memory usage: 1.7+ MB\n"
     ]
    }
   ],
   "source": [
    "data_json = read_json(\"vespasiano-vdbRdf/vdbRdf.json\")\n",
    "data_json.info()"
   ],
   "metadata": {
    "collapsed": false,
    "pycharm": {
     "name": "#%%\n"
    }
   }
  },
  {
   "cell_type": "markdown",
   "source": [
    "### place has many NaN values:"
   ],
   "metadata": {
    "collapsed": false,
    "pycharm": {
     "name": "#%% md\n"
    }
   }
  },
  {
   "cell_type": "code",
   "execution_count": 4,
   "outputs": [
    {
     "data": {
      "text/plain": "0                                                     NaN\n1                                                     NaN\n2                                                     NaN\n3                                                     NaN\n4                                                     NaN\n                              ...                        \n4160                                                  NaN\n4161                                                  NaN\n4162                                                  NaN\n4163                                                  NaN\n4164    [{'@id': 'http://vespasianodabisticciletters.u...\nName: http://purl.org/vocab/bio/0.1/place, Length: 4165, dtype: object"
     },
     "execution_count": 4,
     "metadata": {},
     "output_type": "execute_result"
    }
   ],
   "source": [
    "data_json[\"http://purl.org/vocab/bio/0.1/place\"]"
   ],
   "metadata": {
    "collapsed": false,
    "pycharm": {
     "name": "#%%\n"
    }
   }
  },
  {
   "cell_type": "code",
   "execution_count": 5,
   "outputs": [],
   "source": [
    "df_data_json = pd.read_json(\"vespasiano-vdbRdf/vdbRdf.json\")"
   ],
   "metadata": {
    "collapsed": false,
    "pycharm": {
     "name": "#%%\n"
    }
   }
  },
  {
   "cell_type": "markdown",
   "source": [
    "### now we see that there is only 34 unique rows"
   ],
   "metadata": {
    "collapsed": false,
    "pycharm": {
     "name": "#%% md\n"
    }
   }
  },
  {
   "cell_type": "code",
   "execution_count": 7,
   "outputs": [
    {
     "data": {
      "text/plain": "count                                                   244\nunique                                                   34\ntop       [{'@id': 'http://vespasianodabisticciletters.u...\nfreq                                                     81\nName: http://purl.org/vocab/bio/0.1/place, dtype: object"
     },
     "execution_count": 7,
     "metadata": {},
     "output_type": "execute_result"
    }
   ],
   "source": [
    "df_data_json['http://purl.org/vocab/bio/0.1/place'].describe(include=\"all\")"
   ],
   "metadata": {
    "collapsed": false,
    "pycharm": {
     "name": "#%%\n"
    }
   }
  },
  {
   "cell_type": "code",
   "execution_count": 8,
   "outputs": [
    {
     "data": {
      "text/plain": "13      [{'@id': 'http://vespasianodabisticciletters.u...\n14      [{'@id': 'http://vespasianodabisticciletters.u...\n17      [{'@id': 'http://vespasianodabisticciletters.u...\n21      [{'@id': 'http://vespasianodabisticciletters.u...\n40      [{'@id': 'http://vespasianodabisticciletters.u...\n                              ...                        \n4048    [{'@id': 'http://vespasianodabisticciletters.u...\n4050    [{'@id': 'http://vespasianodabisticciletters.u...\n4085    [{'@id': 'http://vespasianodabisticciletters.u...\n4109    [{'@id': 'http://vespasianodabisticciletters.u...\n4164    [{'@id': 'http://vespasianodabisticciletters.u...\nName: http://purl.org/vocab/bio/0.1/place, Length: 244, dtype: object"
     },
     "execution_count": 8,
     "metadata": {},
     "output_type": "execute_result"
    }
   ],
   "source": [
    "df_data_json[df_data_json['http://purl.org/vocab/bio/0.1/place'].notna()]['http://purl.org/vocab/bio/0.1/place']"
   ],
   "metadata": {
    "collapsed": false,
    "pycharm": {
     "name": "#%%\n"
    }
   }
  },
  {
   "cell_type": "code",
   "execution_count": 9,
   "outputs": [],
   "source": [
    "df_2 = df_data_json[df_data_json['http://purl.org/vocab/bio/0.1/place'].notna()]['http://purl.org/vocab/bio/0.1/place']"
   ],
   "metadata": {
    "collapsed": false,
    "pycharm": {
     "name": "#%%\n"
    }
   }
  },
  {
   "cell_type": "markdown",
   "source": [
    "### reading a place uri for example:"
   ],
   "metadata": {
    "collapsed": false,
    "pycharm": {
     "name": "#%% md\n"
    }
   }
  },
  {
   "cell_type": "code",
   "execution_count": 19,
   "outputs": [
    {
     "data": {
      "text/plain": "'http://vespasianodabisticciletters.unibo.it/roma'"
     },
     "execution_count": 19,
     "metadata": {},
     "output_type": "execute_result"
    }
   ],
   "source": [
    "df_2.iloc[2][0]['@id']"
   ],
   "metadata": {
    "collapsed": false,
    "pycharm": {
     "name": "#%%\n"
    }
   }
  },
  {
   "cell_type": "markdown",
   "source": [
    "### dropping the duplicates:"
   ],
   "metadata": {
    "collapsed": false,
    "pycharm": {
     "name": "#%% md\n"
    }
   }
  },
  {
   "cell_type": "code",
   "execution_count": 20,
   "outputs": [],
   "source": [
    "df_3_dropped = df_2.drop_duplicates()"
   ],
   "metadata": {
    "collapsed": false,
    "pycharm": {
     "name": "#%%\n"
    }
   }
  },
  {
   "cell_type": "code",
   "execution_count": 21,
   "outputs": [
    {
     "data": {
      "text/plain": "count                                                    34\nunique                                                   34\ntop       [{'@id': 'http://vespasianodabisticciletters.u...\nfreq                                                      1\nName: http://purl.org/vocab/bio/0.1/place, dtype: object"
     },
     "execution_count": 21,
     "metadata": {},
     "output_type": "execute_result"
    }
   ],
   "source": [
    "df_3_dropped.describe()"
   ],
   "metadata": {
    "collapsed": false,
    "pycharm": {
     "name": "#%%\n"
    }
   }
  },
  {
   "cell_type": "markdown",
   "source": [
    "### creating a csv file for unique places:"
   ],
   "metadata": {
    "collapsed": false,
    "pycharm": {
     "name": "#%% md\n"
    }
   }
  },
  {
   "cell_type": "code",
   "execution_count": 22,
   "outputs": [],
   "source": [
    "df_3_dropped.to_csv('unique_places.csv')"
   ],
   "metadata": {
    "collapsed": false,
    "pycharm": {
     "name": "#%%\n"
    }
   }
  },
  {
   "cell_type": "code",
   "execution_count": null,
   "outputs": [],
   "source": [],
   "metadata": {
    "collapsed": false,
    "pycharm": {
     "name": "#%%\n"
    }
   }
  }
 ],
 "metadata": {
  "kernelspec": {
   "display_name": "Python 3",
   "language": "python",
   "name": "python3"
  },
  "language_info": {
   "codemirror_mode": {
    "name": "ipython",
    "version": 2
   },
   "file_extension": ".py",
   "mimetype": "text/x-python",
   "name": "python",
   "nbconvert_exporter": "python",
   "pygments_lexer": "ipython2",
   "version": "2.7.6"
  }
 },
 "nbformat": 4,
 "nbformat_minor": 0
}
